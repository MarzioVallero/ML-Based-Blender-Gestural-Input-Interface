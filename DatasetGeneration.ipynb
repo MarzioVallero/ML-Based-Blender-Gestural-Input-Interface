{
 "cells": [
  {
   "cell_type": "markdown",
   "id": "4be1d42e",
   "metadata": {},
   "source": [
    "# Dataset Generation for Model Training"
   ]
  },
  {
   "cell_type": "markdown",
   "id": "d6dadac9",
   "metadata": {},
   "source": [
    "First, we add all the useful dependencies for image collection and processing.  \n",
    "Be sure to be in the root directory of the project when executiong the following code cells.  \n",
    "If any of the following imports fail, be sure to install the missing libraries through oyur package manager. I suggest _pip install <library\\_name>_.  "
   ]
  },
  {
   "cell_type": "code",
   "execution_count": 36,
   "id": "7f1df295",
   "metadata": {},
   "outputs": [],
   "source": [
    "import cv2\n",
    "import time\n",
    "import os\n",
    "import uuid\n",
    "from IPython.display import clear_output\n",
    "import random\n",
    "import shutil\n",
    "import wget"
   ]
  },
  {
   "cell_type": "markdown",
   "id": "b8dea5dd",
   "metadata": {},
   "source": [
    "We then define the path of the directory into which we will save and manipulate our dataset.  "
   ]
  },
  {
   "cell_type": "code",
   "execution_count": 37,
   "id": "1f3315bb",
   "metadata": {},
   "outputs": [],
   "source": [
    "imagePath = 'Tensorflow/Workspace/images/capturedimages'"
   ]
  },
  {
   "cell_type": "markdown",
   "id": "2b9de123",
   "metadata": {},
   "source": [
    "Now we define the list of gesture classes _labels_, which will be used to generate data for the model to train onto.  \n",
    "The _nImages_ variable specifies how many images of a single gesture shall be taken: the higher, the better variance you'll get in the final dataset. However, be warned that all the images for the dataset must be labeled manually, so choose wisely. We will exploit data augmentation to generate a bigger dataset with more variance, in order to improve the final model's generalization capabilities.  "
   ]
  },
  {
   "cell_type": "code",
   "execution_count": 38,
   "id": "a5c6191b",
   "metadata": {},
   "outputs": [],
   "source": [
    "labels = ['LeftL', 'LeftA', 'LeftO', 'LeftV', 'LeftOpenHand', 'RIndexUp', 'RIndexDown', 'RIndexLeft', 'RIndexRight', 'RIndexFront', 'RThumbBack', 'RClearC']\n",
    "nImages = 25"
   ]
  },
  {
   "cell_type": "markdown",
   "id": "426de088",
   "metadata": {},
   "source": [
    "We define some data aumentation functions to produce multiple output images from a single input.  \n",
    "Since the gestures we want to recognize are hand-bound, since there are gestures exclusive to the right or left hand, we cannot perform horizontal mirroring. Vertical mirroring and rotations dont't make any sense in this case, since all the gestures are direction bound, so such transformations could make two different classes overlap with each other.  \n",
    "The only useful data augmentation procedures we can exploit are thus vertical and horizontal shifts (or stretchs) and zoom transformations.  "
   ]
  },
  {
   "cell_type": "code",
   "execution_count": 7,
   "id": "b68a621b",
   "metadata": {},
   "outputs": [],
   "source": [
    "def vertical_shift(input_img, ratio=0.2):\n",
    "    if ratio > 1 or ratio < 0:\n",
    "        print('Value should be less than 1 and greater than 0')\n",
    "        return input_img\n",
    "    img = input_img.copy()\n",
    "    ratio = random.uniform(-ratio, ratio)\n",
    "    h, w = img.shape[:2]\n",
    "    to_shift = h*ratio\n",
    "    if ratio > 0:\n",
    "        img = img[:int(h-to_shift), :, :]\n",
    "    if ratio < 0:\n",
    "        img = img[int(-1*to_shift):, :, :]\n",
    "    img = cv2.resize(img, (w, h), cv2.INTER_CUBIC)\n",
    "    return img\n",
    "\n",
    "def horizontal_shift(input_img, ratio=0.2):\n",
    "    if ratio > 1 or ratio < 0:\n",
    "        print('Value should be less than 1 and greater than 0')\n",
    "        return input_img\n",
    "    img = input_img.copy()\n",
    "    ratio = random.uniform(-ratio, ratio)\n",
    "    h, w = img.shape[:2]\n",
    "    to_shift = w*ratio\n",
    "    if ratio > 0:\n",
    "        img = img[:, :int(w-to_shift), :]\n",
    "    if ratio < 0:\n",
    "        img = img[:, int(-1*to_shift):, :]\n",
    "    img = cv2.resize(img, (w, h), cv2.INTER_CUBIC)\n",
    "    return img\n",
    "\n",
    "def zoom(input_img, value=0.85):\n",
    "    if value > 1 or value < 0:\n",
    "        print('Value for zoom should be less than 1 and greater than 0')\n",
    "        return input_img\n",
    "    img = input_img.copy()\n",
    "    value = random.uniform(value, 1)\n",
    "    h, w = img.shape[:2]\n",
    "    h_taken = int(value*h)\n",
    "    w_taken = int(value*w)\n",
    "    h_start = random.randint(0, h-h_taken)\n",
    "    w_start = random.randint(0, w-w_taken)\n",
    "    img = img[h_start:h_start+h_taken, w_start:w_start+w_taken, :]\n",
    "    img = cv2.resize(img, (w, h), cv2.INTER_CUBIC)\n",
    "    return img"
   ]
  },
  {
   "cell_type": "markdown",
   "id": "77d9a897",
   "metadata": {},
   "source": [
    "The following code box will warn you about which gesture must be performed. The delay between each frame capture is of 2 seconds, but can be freely adjusted to whatever you need.  \n",
    "Before the start of the capturing procedure for each class, the user is prompted to press Enter in an input box, to improve usability and provide mid-capture pause scenarios.  "
   ]
  },
  {
   "cell_type": "code",
   "execution_count": 8,
   "id": "ba14767d",
   "metadata": {},
   "outputs": [
    {
     "name": "stdout",
     "output_type": "stream",
     "text": [
      "Collecting images for NOOP\n",
      "Collected\n",
      "Collected\n",
      "Collected\n",
      "Collected\n",
      "Collected\n",
      "Collected\n",
      "Collected\n",
      "Collected\n",
      "Collected\n",
      "Collected\n",
      "Collected\n",
      "Collected\n",
      "Collected\n",
      "Collected\n",
      "Collected\n",
      "Collected\n",
      "Collected\n",
      "Collected\n",
      "Collected\n",
      "Collected\n",
      "Collected\n",
      "Collected\n",
      "Collected\n",
      "Collected\n",
      "Collected\n"
     ]
    }
   ],
   "source": [
    "frame_capture_delay = 2 #seconds\n",
    "for label in labels:\n",
    "    !mkdir {'Tensorflow\\Workspace\\images\\capturedimages\\\\' + label}\n",
    "    clear_output(wait=True)\n",
    "    print('Collecting images for {}'.format(label))\n",
    "    cap = cv2.VideoCapture(0)\n",
    "    input()\n",
    "    for imageNumber in range(nImages):\n",
    "        time.sleep(frame_capture_delay)\n",
    "        ret, frame = cap.read()\n",
    "        tmpUUID = format(str(uuid.uuid1()))\n",
    "        imageName = os.path.join(imagePath, label, label+'_'+f'{tmpUUID}.jpg')\n",
    "        cv2.imwrite(imageName, frame)\n",
    "        print('Collected')\n",
    "        cv2.imshow('frame', frame)\n",
    "        cv2.imwrite(os.path.join(imagePath, label, label+'_vshift_'+f'{tmpUUID}.jpg'),\n",
    "                    vertical_shift(input_img=frame))\n",
    "        cv2.imwrite(os.path.join(imagePath, label, label+'_hshift_'+f'{tmpUUID}.jpg'),\n",
    "                    horizontal_shift(input_img=frame))\n",
    "        cv2.imwrite(os.path.join(imagePath, label, label+'_zoom_'+f'{tmpUUID}.jpg'),\n",
    "                    zoom(input_img=frame))\n",
    "        if cv2.waitKey(1) & 0xFF == ord('q'):\n",
    "            cv2.destroyWindow('frame')\n",
    "            break\n",
    "    cap.release()\n",
    "cv2.destroyWindow('frame')"
   ]
  },
  {
   "cell_type": "markdown",
   "id": "f1f3d108",
   "metadata": {},
   "source": [
    "At the end of the capture step, go into the _capturedimages_ directory.  \n",
    "Check all the sub-directories generated output images, to ensure that all of them contain well structured data: if not, repeat the capture process by specifying only the number of images and classes you need to replace.  \n",
    "\n",
    "The following cell will then move all the images from the class sub-directories to the _capturedimages_ directory.  \n",
    "If you redefined the _labels_ list to capture some extra images, be sure to redefine the _labels_ list before executing the following cell, so that all files get correctly moved."
   ]
  },
  {
   "cell_type": "code",
   "execution_count": null,
   "id": "01e827eb",
   "metadata": {},
   "outputs": [],
   "source": [
    "for label in labels:\n",
    "    source_dir = imagePath + f\"/{label}/\"\n",
    "    file_names = os.listdir(source_dir)\n",
    "    for file_name in file_names:\n",
    "        # Remove comment for verbose output\n",
    "        #print(f\"Moving {file_name} from {source_dir} to {imagePath}\")\n",
    "        shutil.move(os.path.join(source_dir, file_name), imagePath)\n",
    "    os.rmdir(source_dir)"
   ]
  },
  {
   "cell_type": "markdown",
   "id": "d330a2c7",
   "metadata": {},
   "source": [
    "# Dataset labeling  "
   ]
  },
  {
   "cell_type": "markdown",
   "id": "6c21b772",
   "metadata": {},
   "source": [
    "All commands must be run from the root directory of the project, unless otherwise stated.  \n",
    "As a first step, we will configure the environment variables for all the paths we are going to use.  "
   ]
  },
  {
   "cell_type": "code",
   "execution_count": 39,
   "id": "8e9d5328",
   "metadata": {},
   "outputs": [],
   "source": [
    "WORKSPACE_PATH = 'Tensorflow/Workspace'\n",
    "SCRIPTS_PATH = 'Tensorflow/ConversionScript'\n",
    "APIMODEL_PATH = 'Tensorflow/models'\n",
    "ANNOTATION_PATH = WORKSPACE_PATH+'/annotations'\n",
    "IMAGE_PATH = WORKSPACE_PATH+'/images'\n",
    "MODEL_PATH = WORKSPACE_PATH+'/trained-models'\n",
    "PRETRAINED_MODEL_PATH = WORKSPACE_PATH+'/pre-trained-model'\n",
    "CONFIG_PATH = MODEL_PATH+'/custom_trained_model/pipeline.config'\n",
    "CHECKPOINT_PATH = MODEL_PATH+'/custom_trained_model/'\n",
    "CUSTOM_MODEL_NAME = 'custom_trained_model' "
   ]
  },
  {
   "cell_type": "markdown",
   "id": "aab12ba0",
   "metadata": {},
   "source": [
    "The label map hereby generated contains all classes we want to train our model onto and assigns an integer id to each one.  \n",
    "The map can be modified in order to account for number of different labels, just be sure that it features exactly the same classes previously defined in the _labels_ list.  \n",
    "The code box down below will generate the _label_map.pbtxt_ file.  "
   ]
  },
  {
   "cell_type": "code",
   "execution_count": null,
   "id": "bea0b475",
   "metadata": {},
   "outputs": [],
   "source": [
    "!mkdir \"{ANNOTATION_PATH}\"\n",
    "label_map = []\n",
    "id = 1\n",
    "for label in labels:\n",
    "    label_map.append({'name':f\"{label}\", 'id':f\"{id}\"})\n",
    "    id = id + 1\n",
    "\n",
    "with open(ANNOTATION_PATH + '\\label_map.pbtxt', 'w') as f:\n",
    "    for entry in label_map:\n",
    "        f.write('item { \\n')\n",
    "        f.write('\\tname:\\'{}\\'\\n'.format(entry['name']))\n",
    "        f.write('\\tid:{}\\n'.format(entry['id']))\n",
    "        f.write('}\\n')"
   ]
  },
  {
   "cell_type": "markdown",
   "id": "3dc3b629",
   "metadata": {},
   "source": [
    "## Clone submodules\n",
    "\n",
    "If you cloned this repository without using the _-recursive_ flag, run the following codebox to get both the _labelImg_ and the _Tensorflow Model Zoo_ submodules.  "
   ]
  },
  {
   "cell_type": "code",
   "execution_count": null,
   "id": "d39e3fd7",
   "metadata": {},
   "outputs": [],
   "source": [
    "!git submodule init\n",
    "!git submodule update"
   ]
  },
  {
   "cell_type": "markdown",
   "id": "cb01e918",
   "metadata": {},
   "source": [
    "## Label images with LabelImg\n",
    "\n",
    "The follwing code cell moves the notebook's shell to the LabelImg directory and runs LabelImg.    \n",
    "\n",
    "In the LabelImg instance that just opened, be sure to check in the upper left menu _View->Auto Save Mode_.  \n",
    "Click onto _Open Dir_ on the left vertical menu bar and select the _collected images_ directory, then _Select directory_.  \n",
    "Click onto _Change Save Dir_ on the left menu bar and select the _collected images_ directory, then _Select directory_.  \n",
    "\n",
    "You should now see all the images you previously captured.  \n",
    "Use _w_ to activate the draw bounding box utility and select the gesture in the image, confirming by clicking with the left mouse button. A small input window will open, asking you to assign a name to the object class for the bounding box you just drew: for consistency's sake, we used the same names as for the _labels_ list.  \n",
    "Repeat the process until all the images have been labeled with exactly one label. It's possible to specify multiple bounding boxes for multiple elements in a single image, however this would make the dataset more complex to manage. Forthis reason, in this case, each dataset entry will contain one single gesture.  "
   ]
  },
  {
   "cell_type": "code",
   "execution_count": null,
   "id": "d63beb3e",
   "metadata": {},
   "outputs": [],
   "source": [
    "%cd \"labelImg\"\n",
    "!pyrcc5 -o libs/resources.py resources.qrc # Solves \"No module named 'libs.resources'\" bug, if present\n",
    "!python labelImg.py\n",
    "%cd \"..\""
   ]
  },
  {
   "cell_type": "markdown",
   "id": "3ecd828c",
   "metadata": {},
   "source": [
    "# Generate Tensorflow .record files  "
   ]
  },
  {
   "cell_type": "markdown",
   "id": "8ab337ea",
   "metadata": {},
   "source": [
    "First, we download the _generate\\_tfrecord.py_ script from the Tensorflow Object Detection API page.  \n",
    "The script will index the Train and Test partitions of the dataset, such that the training script can find the files.  "
   ]
  },
  {
   "cell_type": "code",
   "execution_count": 46,
   "id": "c912cc52",
   "metadata": {},
   "outputs": [
    {
     "name": "stdout",
     "output_type": "stream",
     "text": [
      "[]"
     ]
    },
    {
     "data": {
      "text/plain": [
       "'Tensorflow/ConversionScript/generate_tfrecord.py'"
      ]
     },
     "execution_count": 46,
     "metadata": {},
     "output_type": "execute_result"
    }
   ],
   "source": [
    "url = 'https://tensorflow-object-detection-api-tutorial.readthedocs.io/en/latest/_downloads/da4babe668a8afb093cc7776d7e630f3/generate_tfrecord.py'\n",
    "wget.download(url, out=SCRIPTS_PATH, bar=wget.bar_thermometer)"
   ]
  },
  {
   "cell_type": "markdown",
   "id": "9e72e38e",
   "metadata": {},
   "source": [
    "We then must split our dataset into a training and a test partition. Be sure to evenly distribute samples for each class among the two sets, or else the training may yield underfitting or overfitting problems.  \n",
    "We will use 25% of the dataset for the test partition and the remaining 75% for the testing partition. Since we have 100 samples for each class, it amounts to 25 test samples for each class.  \n",
    "We won't use a validation partition, since the original model's structure from which we are performing transfer learning doesn't support it.   "
   ]
  },
  {
   "cell_type": "code",
   "execution_count": 9,
   "id": "86d4e61d",
   "metadata": {},
   "outputs": [
    {
     "name": "stderr",
     "output_type": "stream",
     "text": [
      "Sottodirectory o file Tensorflow/Workspace/images/test gi� esistente.\n",
      "Sottodirectory o file Tensorflow/Workspace/images/train gi� esistente.\n"
     ]
    }
   ],
   "source": [
    "number_test_samples = 25\n",
    "!mkdir \"{IMAGE_PATH + '/test'}\"\n",
    "!mkdir \"{IMAGE_PATH + '/train'}\"\n",
    "for label in labels:\n",
    "    file_names = [file for file in os.listdir(imagePath)\n",
    "                  if file.endswith(\"jpg\") if file.startswith(label + \"_\")]\n",
    "    random.shuffle(file_names)\n",
    "    index = 0\n",
    "    for file_name in file_names:\n",
    "        pre, ext = os.path.splitext(file_name)\n",
    "        annotation_name = pre + \".xml\"\n",
    "        if(index < number_test_samples):\n",
    "            # Remove comment for verbose output\n",
    "            #print(f\"Moving {file_name} and {annotation_name} from {imagePath} to {IMAGE_PATH + '/test'}\")\n",
    "            shutil.copy(src=imagePath + \"/\" + file_name, dst=IMAGE_PATH + '/test')\n",
    "            shutil.copy(src=imagePath + \"/\" + annotation_name, dst=IMAGE_PATH + '/test')\n",
    "            #shutil.move(os.path.join(source_dir, file_name), imagePath)\n",
    "        else:\n",
    "            # Remove comment for verbose output\n",
    "            #print(f\"Moving {file_name} and {annotation_name} from {imagePath} to {IMAGE_PATH + '/train'}\")\n",
    "            shutil.copy(src=imagePath + \"/\" + file_name, dst=IMAGE_PATH + '/train')\n",
    "            shutil.copy(src=imagePath + \"/\" + annotation_name, dst=IMAGE_PATH + '/train')\n",
    "        index = index + 1"
   ]
  },
  {
   "cell_type": "code",
   "execution_count": 10,
   "id": "bc25b367",
   "metadata": {},
   "outputs": [
    {
     "name": "stdout",
     "output_type": "stream",
     "text": [
      "Successfully created the TFRecord file: Tensorflow/Workspace/annotations/train.record\n",
      "Successfully created the TFRecord file: Tensorflow/Workspace/annotations/test.record\n"
     ]
    }
   ],
   "source": [
    "!python {SCRIPTS_PATH + '/generate_tfrecord.py'} -x {IMAGE_PATH + '/train'} -l {ANNOTATION_PATH + '/label_map.pbtxt'} -o {ANNOTATION_PATH + '/train.record'}\n",
    "!python {SCRIPTS_PATH + '/generate_tfrecord.py'} -x {IMAGE_PATH + '/test'} -l {ANNOTATION_PATH + '/label_map.pbtxt'} -o {ANNOTATION_PATH + '/test.record'}"
   ]
  },
  {
   "cell_type": "markdown",
   "id": "c71c84bb",
   "metadata": {},
   "source": [
    "# Setup the transfer learning model  "
   ]
  },
  {
   "cell_type": "markdown",
   "id": "2c26f06b",
   "metadata": {},
   "source": [
    "Download, if not present, the _ssd\\_mobilenet\\_v2\\_fpnlite\\_320x320\\_coco17\\_tpu-8_ we'll later use for transfer learning.  \n",
    "This can be done with the following code cell.  "
   ]
  },
  {
   "cell_type": "code",
   "execution_count": 48,
   "id": "e2e140b3",
   "metadata": {},
   "outputs": [
    {
     "name": "stdout",
     "output_type": "stream",
     "text": [
      "[]"
     ]
    },
    {
     "name": "stderr",
     "output_type": "stream",
     "text": [
      "x ssd_mobilenet_v2_fpnlite_320x320_coco17_tpu-8/\n",
      "x ssd_mobilenet_v2_fpnlite_320x320_coco17_tpu-8/checkpoint/\n",
      "x ssd_mobilenet_v2_fpnlite_320x320_coco17_tpu-8/checkpoint/ckpt-0.data-00000-of-00001\n",
      "x ssd_mobilenet_v2_fpnlite_320x320_coco17_tpu-8/checkpoint/checkpoint\n",
      "x ssd_mobilenet_v2_fpnlite_320x320_coco17_tpu-8/checkpoint/ckpt-0.index\n",
      "x ssd_mobilenet_v2_fpnlite_320x320_coco17_tpu-8/pipeline.config\n",
      "x ssd_mobilenet_v2_fpnlite_320x320_coco17_tpu-8/saved_model/\n",
      "x ssd_mobilenet_v2_fpnlite_320x320_coco17_tpu-8/saved_model/saved_model.pb\n",
      "x ssd_mobilenet_v2_fpnlite_320x320_coco17_tpu-8/saved_model/variables/\n",
      "x ssd_mobilenet_v2_fpnlite_320x320_coco17_tpu-8/saved_model/variables/variables.data-00000-of-00001\n",
      "x ssd_mobilenet_v2_fpnlite_320x320_coco17_tpu-8/saved_model/variables/variables.index\n"
     ]
    }
   ],
   "source": [
    "url = 'http://download.tensorflow.org/models/object_detection/tf2/20200711/ssd_mobilenet_v2_fpnlite_320x320_coco17_tpu-8.tar.gz'\n",
    "wget.download(url, out=PRETRAINED_MODEL_PATH, bar=wget.bar_thermometer)\n",
    "!cd {PRETRAINED_MODEL_PATH} && tar -zxvf ssd_mobilenet_v2_fpnlite_320x320_coco17_tpu-8.tar.gz"
   ]
  },
  {
   "cell_type": "markdown",
   "id": "bc74f90d",
   "metadata": {},
   "source": [
    "We will now copy the _pipeline.config_ file into the path to which our trained model will be saved to.  "
   ]
  },
  {
   "cell_type": "code",
   "execution_count": 40,
   "id": "20c4f3b2",
   "metadata": {},
   "outputs": [
    {
     "name": "stderr",
     "output_type": "stream",
     "text": [
      "Sottodirectory o file Tensorflow/Workspace/trained-models/custom_trained_model gi� esistente.\n"
     ]
    },
    {
     "data": {
      "text/plain": [
       "'Tensorflow/Workspace/trained-models/custom_trained_model\\\\pipeline.config'"
      ]
     },
     "execution_count": 40,
     "metadata": {},
     "output_type": "execute_result"
    }
   ],
   "source": [
    "source = PRETRAINED_MODEL_PATH + '/ssd_mobilenet_v2_fpnlite_320x320_coco17_tpu-8/pipeline.config'\n",
    "destination = MODEL_PATH + '/' + CUSTOM_MODEL_NAME\n",
    "!mkdir \"{MODEL_PATH + '/' + CUSTOM_MODEL_NAME}\"\n",
    "shutil.copy(src=source, dst=destination)"
   ]
  },
  {
   "cell_type": "markdown",
   "id": "5596d914",
   "metadata": {},
   "source": [
    "The _pipeline.config_ file must now be updated with the local paths, number of classes and other characteristics of our new model.  "
   ]
  },
  {
   "cell_type": "code",
   "execution_count": 65,
   "id": "d212f928",
   "metadata": {},
   "outputs": [],
   "source": [
    "import tensorflow as tf\n",
    "from object_detection.utils import config_util\n",
    "from object_detection.protos import pipeline_pb2\n",
    "from google.protobuf import text_format"
   ]
  },
  {
   "cell_type": "code",
   "execution_count": 66,
   "id": "a52505aa",
   "metadata": {},
   "outputs": [],
   "source": [
    "CONFIG_PATH = MODEL_PATH + '/' + CUSTOM_MODEL_NAME + '/pipeline.config'\n",
    "config = config_util.get_configs_from_pipeline_file(CONFIG_PATH)"
   ]
  },
  {
   "cell_type": "code",
   "execution_count": 67,
   "id": "76d6ff5d",
   "metadata": {},
   "outputs": [],
   "source": [
    "pipeline_config = pipeline_pb2.TrainEvalPipelineConfig()\n",
    "with tf.io.gfile.GFile(CONFIG_PATH, \"r\") as f:                                                                                                                                                                                                                     \n",
    "    proto_str = f.read()                                                                                                                                                                                                                                          \n",
    "    text_format.Merge(proto_str, pipeline_config)  "
   ]
  },
  {
   "cell_type": "markdown",
   "id": "3f773e37",
   "metadata": {},
   "source": [
    "At this point, be sure that the _pipeline_config.model.ssd.num_classes_ variable in the code box down here equals exactly the number of labels you previously specified. In our case it will be 12."
   ]
  },
  {
   "cell_type": "code",
   "execution_count": 69,
   "id": "8d172d68",
   "metadata": {},
   "outputs": [
    {
     "name": "stdout",
     "output_type": "stream",
     "text": [
      "random_crop_image {\n",
      "  min_object_covered: 0.0\n",
      "  min_aspect_ratio: 0.75\n",
      "  max_aspect_ratio: 3.0\n",
      "  min_area: 0.75\n",
      "  max_area: 1.0\n",
      "  overlap_thresh: 0.0\n",
      "}\n",
      "\n"
     ]
    }
   ],
   "source": [
    "pipeline_config.model.ssd.num_classes = 12\n",
    "pipeline_config.train_config.batch_size = 16 # The RTX 2060 can handle both 16 and 32 batch sizes\n",
    "pipeline_config.train_config.fine_tune_checkpoint = PRETRAINED_MODEL_PATH+'/ssd_mobilenet_v2_fpnlite_320x320_coco17_tpu-8/checkpoint/ckpt-0'\n",
    "pipeline_config.train_config.fine_tune_checkpoint_type = \"detection\"\n",
    "pipeline_config.train_input_reader.label_map_path= ANNOTATION_PATH + '/label_map.pbtxt'\n",
    "pipeline_config.train_input_reader.tf_record_input_reader.input_path[:] = [ANNOTATION_PATH + '/train.record']\n",
    "pipeline_config.eval_input_reader[0].label_map_path = ANNOTATION_PATH + '/label_map.pbtxt'\n",
    "pipeline_config.eval_input_reader[0].tf_record_input_reader.input_path[:] = [ANNOTATION_PATH + '/test.record']\n",
    "pipeline_config.train_config.data_augmentation_options.remove(pipeline_config.train_config.data_augmentation_options[0])"
   ]
  },
  {
   "cell_type": "markdown",
   "id": "244440b4",
   "metadata": {},
   "source": [
    "The modified entries of the _pipeline.config_ file are then written onto the file."
   ]
  },
  {
   "cell_type": "code",
   "execution_count": 70,
   "id": "4049d587",
   "metadata": {},
   "outputs": [],
   "source": [
    "config_text = text_format.MessageToString(pipeline_config)                                                                                                                                                                                                        \n",
    "with tf.io.gfile.GFile(CONFIG_PATH, \"wb\") as f:                                                                                                                                                                                                                     \n",
    "    f.write(config_text)  "
   ]
  },
  {
   "cell_type": "markdown",
   "id": "5686c2a8",
   "metadata": {},
   "source": [
    "# Model Training  "
   ]
  },
  {
   "cell_type": "markdown",
   "id": "5889d081",
   "metadata": {},
   "source": [
    "The following code box will print out a command.  \n",
    "It must be copied and run in a shell located at the root directory of the project.  \n",
    "\n",
    "It is highly suggested to configure a GPU for training, as doing so will speed up by a significant margin the computation time, although this is not strictly necessary. Detailed instructions for installing the Tensorflow Object Detection API can be found on the [TF Object Detection API Installation Tutorial page](https://tensorflow-object-detection-api-tutorial.readthedocs.io/en/latest/install.html).  \n",
    "\n",
    "The number of training steps can be configured by changing the _--num\\_train\\_steps_ value.  \n",
    "In our case, the model has been trained onto a machine equipped with an _Intel i5-11600K_ CPU and accelerated through an _NVidia RTX 2060 6GB_ GPU. The process required <time_required> hours to complete the training.\n",
    "\n",
    "The _training.log_ file is removed before the start of a new training to not mix the statistics.  "
   ]
  },
  {
   "cell_type": "code",
   "execution_count": 83,
   "id": "9fbe0637",
   "metadata": {},
   "outputs": [
    {
     "name": "stdout",
     "output_type": "stream",
     "text": [
      "python Tensorflow/models/research/object_detection/model_main_tf2.py --model_dir=Tensorflow/Workspace/trained-models/custom_trained_model --pipeline_config_path=Tensorflow/Workspace/trained-models/custom_trained_model/pipeline.config --num_train_steps=40000\n"
     ]
    }
   ],
   "source": [
    "num_train_steps = 40000\n",
    "print(\"\"\"python {}/research/object_detection/model_main_tf2.py --model_dir={}/{} --pipeline_config_path={}/{}/pipeline.config --num_train_steps={}\"\"\".format(APIMODEL_PATH, MODEL_PATH, CUSTOM_MODEL_NAME, MODEL_PATH, CUSTOM_MODEL_NAME, num_train_steps))\n",
    "os.remove(\"training.log\")"
   ]
  },
  {
   "cell_type": "markdown",
   "id": "02b27463",
   "metadata": {},
   "source": [
    "The _model_lib_v2.py_ script has been modified in order to redirect the training history printed on stdout also onto a file.    \n",
    "We will now process this _training.log_ file, found in the root directory, in order to extract statistics from the training.  "
   ]
  },
  {
   "cell_type": "code",
   "execution_count": 2,
   "id": "92a3c8fe",
   "metadata": {},
   "outputs": [],
   "source": [
    "import re\n",
    "\n",
    "statistics = ['classification_loss', 'localization_loss', 'regularization_loss', 'total_loss', 'learning_rate']\n",
    "history_dict = {k: [] for k in statistics}\n",
    "\n",
    "fp = open('training.log', 'r')\n",
    "line = fp.readline()\n",
    "while line:\n",
    "    for statistic in statistics:\n",
    "        value = re.findall(r\"[-+]?\\d*\\.\\d+|\\d+\", line)\n",
    "        history_dict[statistic].append(value[0])\n",
    "        line = fp.readline()\n",
    "fp.close()\n",
    "num_entries = len(history_dict['classification_loss'])"
   ]
  },
  {
   "cell_type": "code",
   "execution_count": 34,
   "id": "21d59c54",
   "metadata": {},
   "outputs": [
    {
     "data": {
      "image/png": "[encoded data removed]",
      "text/plain": [
       "<Figure size 1080x1080 with 6 Axes>"
      ]
     },
     "metadata": {
      "needs_background": "light"
     },
     "output_type": "display_data"
    }
   ],
   "source": [
    "import matplotlib.pyplot as plt\n",
    "import numpy as np\n",
    "\n",
    "fig, axs = plt.subplots(3, 2)\n",
    "fig.set_size_inches(15, 15)\n",
    "axs[0, 0].plot(np.linspace(100, 100 * num_entries, num_entries), np.array(history_dict['classification_loss'], dtype=np.float32), 'tab:blue')\n",
    "axs[0, 0].set_title('Classification Loss')\n",
    "axs[0, 1].plot(np.linspace(100, 100 * num_entries, num_entries), np.array(history_dict['localization_loss'], dtype=np.float32), 'tab:orange')\n",
    "axs[0, 1].set_title('Localization Loss')\n",
    "axs[1, 0].plot(np.linspace(100, 100 * num_entries, num_entries), np.array(history_dict['regularization_loss'], dtype=np.float32), 'tab:green')\n",
    "axs[1, 0].set_title('Regularization Loss')\n",
    "axs[1, 1].plot(np.linspace(100, 100 * num_entries, num_entries), np.array(history_dict['total_loss'], dtype=np.float32), 'tab:red')\n",
    "axs[1, 1].set_title('Total Loss')\n",
    "axs[2, 0].plot(np.linspace(100, 100 * num_entries, num_entries), np.array(history_dict['learning_rate'], dtype=np.float32), 'tab:purple')\n",
    "axs[2, 0].set_title('Learning Rate')\n",
    "axs[2, 1].set_visible(False)\n",
    "\n",
    "for ax in axs.flat:\n",
    "    ax.set(xlabel='Steps', ylabel='value')"
   ]
  },
  {
   "cell_type": "code",
   "execution_count": null,
   "id": "16599560",
   "metadata": {},
   "outputs": [],
   "source": []
  }
 ],
 "metadata": {
  "kernelspec": {
   "display_name": "Python 3 (ipykernel)",
   "language": "python",
   "name": "python3"
  },
  "language_info": {
   "codemirror_mode": {
    "name": "ipython",
    "version": 3
   },
   "file_extension": ".py",
   "mimetype": "text/x-python",
   "name": "python",
   "nbconvert_exporter": "python",
   "pygments_lexer": "ipython3",
   "version": "3.9.9"
  }
 },
 "nbformat": 4,
 "nbformat_minor": 5
}
