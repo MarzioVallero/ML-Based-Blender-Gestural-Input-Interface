{
 "cells": [
  {
   "cell_type": "markdown",
   "metadata": {},
   "source": [
    "## Gesture detection"
   ]
  },
  {
   "cell_type": "markdown",
   "metadata": {},
   "source": [
    "Be sure to be in the root directory of the project before running the following code cells.  "
   ]
  },
  {
   "cell_type": "markdown",
   "metadata": {},
   "source": [
    "## Model loading"
   ]
  },
  {
   "cell_type": "code",
   "execution_count": null,
   "metadata": {},
   "outputs": [],
   "source": [
    "# Import all the required libraries\n",
    "import os\n",
    "import tensorflow as tf\n",
    "from object_detection.utils import config_util\n",
    "from object_detection.protos import pipeline_pb2\n",
    "from google.protobuf import text_format\n",
    "from object_detection.utils import label_map_util\n",
    "from object_detection.utils import visualization_utils as viz_utils\n",
    "from object_detection.builders import model_builder\n",
    "import numpy as np\n",
    "\n",
    "# Utility definitions\n",
    "WORKSPACE_PATH = 'Tensorflow/workspace'\n",
    "ANNOTATION_PATH = WORKSPACE_PATH+'/annotations'\n",
    "MODEL_PATH = WORKSPACE_PATH+'/models'\n",
    "PRETRAINED_MODEL_PATH = WORKSPACE_PATH+'/pre-trained-models'\n",
    "CONFIG_PATH = MODEL_PATH+'/my_ssd_mobnet/pipeline.config'\n",
    "CHECKPOINT_PATH = MODEL_PATH+'/my_ssd_mobnet/'\n",
    "actionMap = {\n",
    "    \"SelectPrevious\" : (\"LeftL\", \"RIndexUp\"),\n",
    "    \"SelectNext\" : (\"LeftL\", \"RIndexDown\"),\n",
    "    \"SelectChild\" : (\"LeftL\", \"RIndexRight\"),\n",
    "    \"SelectParent\" : (\"LeftL\", \"RIndexLeft\"),\n",
    "\n",
    "    \"MoveZPositive\" : (\"LeftA\", \"RIndexUp\"),\n",
    "    \"MoveZNegative\" : (\"LeftA\", \"RIndexDown\"),\n",
    "    \"MoveXPositive\" : (\"LeftA\", \"RIndexRight\"),\n",
    "    \"MoveXNegative\" : (\"LeftA\", \"RIndexLeft\"),\n",
    "    \"MoveYPositive\" : (\"LeftA\", \"RIndexFront\"),\n",
    "    \"MoveYNegative\" : (\"LeftA\", \"RThumbBack\"),\n",
    "    \"MoveClear\" : (\"LeftA\", \"RClearC\"),\n",
    "\n",
    "    \"RotateZPositive\" : (\"LeftO\", \"RIndexUp\"),\n",
    "    \"RotateZNegative\" : (\"LeftO\", \"RIndexDown\"),\n",
    "    \"RotateXPositive\" : (\"LeftO\", \"RIndexRight\"),\n",
    "    \"RotateXNegative\" : (\"LeftO\", \"RIndexLeft\"),\n",
    "    \"RotateYPositive\" : (\"LeftO\", \"RIndexFront\"),\n",
    "    \"RotateYNegative\" : (\"LeftO\", \"RThumbBack\"),\n",
    "    \"RotateClear\" : (\"LeftO\", \"RClearC\"),\n",
    "\n",
    "    \"TransformGlobal\" : (\"LeftV\", \"RIndexUp\"),\n",
    "    \"TransformLocal\" : (\"LeftV\", \"RIndexDown\"),\n",
    "    \"ViewNext\" : (\"LeftV\", \"RIndexRight\"),\n",
    "    \"ViewPrevious\" : (\"LeftV\", \"RIndexLeft\"),\n",
    "\n",
    "    \"HideCurrent\" : (\"LeftOpenHand\", \"RIndexRight\"),\n",
    "    \"UnhideCurrent\" : (\"LeftOpenHand\", \"RIndexLeft\"),\n",
    "    \"UnhideAll\" : (\"LeftOpenHand\", \"RIndexUp\"),\n",
    "             }"
   ]
  },
  {
   "cell_type": "markdown",
   "metadata": {},
   "source": [
    "Be sure to change the _checkpoint\\_name_ variable to the name of your chosen model's checkpoint name.  "
   ]
  },
  {
   "cell_type": "code",
   "execution_count": null,
   "metadata": {},
   "outputs": [],
   "source": [
    "checkpoint_name = 'ckpt-41'\n",
    "\n",
    "# Load the pipeline.config file and build a detection model\n",
    "configs = config_util.get_configs_from_pipeline_file(CONFIG_PATH)\n",
    "detection_model = model_builder.build(model_config=configs['model'], is_training=False)\n",
    "\n",
    "# Restore the specified checkpoint (it must match an existing model)\n",
    "ckpt = tf.compat.v2.train.Checkpoint(model=detection_model)\n",
    "ckpt.restore(os.path.join(CHECKPOINT_PATH, checkpoint_name)).expect_partial()\n",
    "\n",
    "# Computes the detections from the predictive model\n",
    "@tf.function\n",
    "def detect_fn(image):\n",
    "    image, shapes = detection_model.preprocess(image)\n",
    "    prediction_dict = detection_model.predict(image, shapes)\n",
    "    detections = detection_model.postprocess(prediction_dict, shapes)\n",
    "    return detections"
   ]
  }
 ],
 "metadata": {
  "interpreter": {
   "hash": "e59b97e49583ef0e2d88c4a0fbba7359baf17716441caa051fc7afb9641bd8af"
  },
  "kernelspec": {
   "display_name": "Python 3.9.9 64-bit (windows store)",
   "language": "python",
   "name": "python3"
  },
  "language_info": {
   "name": "python",
   "version": "3.9.9"
  },
  "orig_nbformat": 4
 },
 "nbformat": 4,
 "nbformat_minor": 2
}
